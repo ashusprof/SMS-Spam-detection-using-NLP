{
 "cells": [
  {
   "cell_type": "code",
   "execution_count": 1,
   "id": "86f8940e",
   "metadata": {},
   "outputs": [],
   "source": [
    "import numpy as np\n",
    "import matplotlib.pyplot as plt\n",
    "import pandas as pd"
   ]
  },
  {
   "cell_type": "code",
   "execution_count": 2,
   "id": "80cb28af",
   "metadata": {},
   "outputs": [],
   "source": [
    "dataset = pd.read_csv('SMS_test.csv', encoding='latin1')"
   ]
  },
  {
   "cell_type": "code",
   "execution_count": 3,
   "id": "c7d786e7",
   "metadata": {},
   "outputs": [
    {
     "name": "stderr",
     "output_type": "stream",
     "text": [
      "[nltk_data] Downloading package stopwords to C:\\Users\\Ashutosh\n",
      "[nltk_data]     pandey\\AppData\\Roaming\\nltk_data...\n",
      "[nltk_data]   Package stopwords is already up-to-date!\n"
     ]
    }
   ],
   "source": [
    "import re\n",
    "import nltk\n",
    "nltk.download('stopwords')\n",
    "from nltk.corpus import stopwords\n",
    "from nltk.stem.porter import PorterStemmer\n",
    "corpus = []\n",
    "for i in range(0, 125):\n",
    "  spam = re.sub('[^a-zA-Z]', ' ', dataset['Message_body'][i])\n",
    "  spam = spam.lower()\n",
    "  spam = spam.split()\n",
    "  ps = PorterStemmer()\n",
    "  spam = [ps.stem(word) for word in spam if not word in set(stopwords.words('english'))]\n",
    "  spam = ' '.join(spam)\n",
    "  corpus.append(spam)"
   ]
  },
  {
   "cell_type": "code",
   "execution_count": 4,
   "id": "2012e0cc",
   "metadata": {},
   "outputs": [
    {
     "name": "stdout",
     "output_type": "stream",
     "text": [
      "['upgrdcentr orang custom may claim free camera phone upgrad loyalti call offer end th juli c appli opt avail', 'loan purpos homeown tenant welcom previous refus still help call free text back help', 'congrat nokia video camera phone call call cost ppm ave call min vari mobil close post bcm ldn wc n xx', 'urgent mobil number award prize guarante call land line claim valid hr', 'someon contact date servic enter phone fanci find call landlin pobox n tf p', 'send logo ur lover name join heart txt love name name mobno eg love adam eve yahoo pobox w wq txtno ad p', 'free entri weekli competit text word win c www txttowin co uk', 'date servic cal l box sk ch', 'free rington text first poli text get true tone help st free tone x pw e nd txt stop', 'mth half price orang line rental latest camera phone free phone mth call mobilesdirect free updat stoptxt', 'doubl min txt month free bluetooth orang avail soni nokia motorola phone call mobileupd call optout n dx', 'thank rington order refer charg gbp per week unsubscrib anytim call custom servic', 'discount code rp stop messag repli stop www regalportfolio co uk custom servic', 'updat xma offer latest motorola sonyericsson nokia free bluetooth doubl min txt orang call mobileupd call optout f q', 'ur cash balanc current pound maxim ur cash send cash p msg cc hg suit land row w j hl', 'congratul ur award cd voucher gift guarante free entri wkli draw txt music tnc www ldew com win ppmx age', 'fanci shag interest sextextuk com txt xxuk suzi txt cost per msg tnc websit x', 'valentin day special win quiz take partner trip lifetim send go p msg rcvd custcar', 'call germani penc per minut call fix line via access number prepay direct access', 'decemb mobil mth entitl updat latest colour camera mobil free call mobil updat co free', 'think ur smart win week weekli quiz text play cs winnersclub po box uz gbp week', 'themob check newest select content game tone gossip babe sport keep mobil fit funki text wap', 'sm ac blind date u rodd aberdeen unit kingdom check http img sm ac w icmb cktz r blind date send hide', 'mobil custom may claim free camera phone upgrad pay go sim card loyalti call offer end thfeb c appli', 'hmv bonu special pound genuin hmv voucher answer easi question play send hmv info www percent real com', 'rington club get uk singl chart mobil week choos top qualiti rington messag free charg', 'ur rington servic chang free credit go club mobil com choos content stop txt club stop p wk club po box mk wt', 'hey realli horni want chat see nake text hot text charg pm unsubscrib text stop', 'tri contact repli offer video handset anytim network min unlimit text camcord repli call', 'congratul ur award cd voucher gift guarante free entri wkli draw txt music tnc www ldew com win ppmx age', 'u secret admir look make contact u find r reveal think ur special call', 'text meet someon sexi today u find date even flirt u join p repli name age eg sam msg recd thirtyeight penc', 'u meet ur dream partner soon ur career flyng start find free txt horo follow ur star sign e g horo ari', 'new mobil must go txt nokia collect today www tc biz optout gbp mtmsg', 'uniqu enough find th august www areyouuniqu co uk', 'pleas call custom servic repres freephon pm guarante cash prize', 'urgent tri contact last weekend draw show prize guarante call claim code valid hr', 'bangbab ur order way u receiv servic msg download ur content u goto wap bangb tv ur mobil internet servic menu', 'pl stop bootydeli f invit friend repli ye see www sm ac u bootydeli stop send stop frnd', 'winner u special select receiv cash holiday flight inc speak live oper claim', 'custom servic annonc new year deliveri wait pleas call arrang deliveri', 'freemsg repli text randi sexi femal live local luv hear u netcollex ltd p per msg repli stop end', 'rcv msg chat svc free hardcor servic text go u get noth u must age verifi yr network tri', 'want get laid tonight want real dog locat sent direct ur mob join uk largest dog network bt txting gravel nt ec p msg p', 'sunshin quiz wkli q win top soni dvd player u know countri algarv txt ansr sp tyron', 'today voda number end select receiv award match pleas call quot claim code standard rate app', 'urgent mobil award bonu caller prize final tri contact u call landlin box wr c ppm', 'privat account statement show unredeem bonu point claim call identifi code expir', 'winner u special select receiv holiday flight inc speak live oper claim p min', 'gent tri contact last weekend draw show prize guarante call claim code k valid hr ppm', 'pleas call custom servic repres pm guarante cash prize', 'hear new divorc barbi come ken stuff', 'urgent ur award complimentari trip eurodisinc trav aco entri claim txt di morefrmmob shracomorsglsuplt ls aj', 'valu custom pleas advis follow recent review mob award bonu prize call', 'congrat year special cinema pass call c suprman v matrix starwar etc free bx ip pm dont miss', 'sm ac sptv new jersey devil detroit red wing play ice hockey correct incorrect end repli end sptv', 'rodger burn msg tri call repli sm free nokia mobil free camcord pleas call deliveri tomorrow', 'thank subscript rington uk mobil charg month pleas confirm repli ye repli charg', 'england v macedonia dont miss goal team news txt ur nation team eg england tri wale scotland txt poboxox w wq', 'xxxmobilemovieclub use credit click wap link next txt messag click http wap xxxmobilemovieclub com n qjkgighjjgcbl', 'urgent week free membership prize jackpot txt word claim c www dbuk net lccltd pobox ldnw rw', 'six chanc win cash pound txt csh send cost p day day tsandc appli repli hl info', 'mobil month u r entitl updat latest colour mobil camera free call mobil updat co free', 'winner valu network custom select receivea prize reward claim call claim code kl valid hour', 'freemsg hey darl week word back like fun still tb ok xxx std chg send rcv', 'free entri wkli comp win fa cup final tkt st may text fa receiv entri question std txt rate c appli', 'de ask like', 'live next lt gt min', 'run manag minut need oxygen might resort roller option', 'oh haha den shld went today gee nvm la kaiez dun mind goin jazz oso scare hiphop open cant catch', 'need th campu atm could pick hour two', 'thanx puttin da fone', 'plan stay night prolli back til late', 'hey j r u feel better hopeso hunni amnow feelin ill ithink may tonsolitusaswel damn iam layin bedreal bore lotsof luv xxxx', 'freemsg txt call claim reward hour talk time use phone subscrib gbp mnth inc hr stop txtstop', 'hi u decid wot get bday ill prob ju get voucher frm virgin sumf', 'laid airtel line rest', 'stuck da middl da row da right hand side da lt', 'full heat pa appli oil pa', 'carlo pick swing usf littl bit', 'yo sorri shower sup', 'good time nice someth bit differ weekend chang see ya soon', 'ok wun b angri msg u aft come home tonight', 'right wasnt phone someon number like', 'well done england get offici poli rington colour flag yer mobil text tone flag opt txt eng stop box w wx', 'tomorrow go theatr come wherev u call tell come tomorrow', 'finish work yet someth', 'want wish happi new year want talk legal advic gari split person make trip ptbo hope everyth good babe love ya', 'see swing bit got thing take care firsg', 'mila age blond new uk look sex uk guy u like fun text mtalk pp txt st free increment help', 'u secret admir look make contact u find r reveal think ur special call stopsm ppm', 'noooooooo pleas last thing need stress life fair', 'ur chanc win wkli shop spree txt shop c www txt shop com custcar x p wk', 'wow think common take back ur freak unless u chop', 'cours math one day one chapter one month finish', 'hi engag fixd lt gt th next month know realli shock bt hmm njan vilikkam ws al sudn', 'plan yet', 'urgent call landlin complimentari ibiza holiday cash await collect sae cs po box sk wp ppm', 'contract mobil mnth latest motorola nokia etc free doubl min text orang tariff text ye callback remov record', 'congratul ur award cd voucher gift guarante free entri wkli draw txt music', 'directli behind abt row behind', '', 'urgent nd attempt contact u u call b csbcm wc n xx callcost ppmmobilesvari max', 'omg u know ate', 'cha quiteamuz scool babe probpop cu satthen hunni brekki love jen xxx psxtra lrg portion pleas', 'wanna laugh tri chit chat mobil logon txting word chat send cm po box london w zf p msg rcvd', 'time come tomorrow', 'hiya how go sunni africa hope u r avin good time give big old silver back big kiss', 'togeth thinkin', 'buy blackberri bold torch buy new use let know plu say buy lt gt g wifi ipad say lt gt g', 'honeybe said sweetest world god laugh amp said wait u havnt met person read msg moral even god crack joke gm gn ge gn', 'tell address', 'come around lt decim gt pm vikki otsid nw il come tht time', 'much u tri get', 'good afternoon boytoy goe walk day get polic abstract still wake miss babe', 'awak oh', 'think da wil', 'piss talk someon realis u point read backward', 'hospit da return home even', 'gettin rdi ship comp', 'wonder world th th ur style th ur smile th ur person rd ur natur nd ur sm st ur love friendship good morn dear', 'tri someth dear read someth exam', 'sun ah thk mayb dun anythin thk book e lesson e pilat orchard mrt u noe hor', 'symptom u love u like listen song u get stop u see name belov u get angri', 'great safe trip dont panic surrend']\n"
     ]
    }
   ],
   "source": [
    "print(corpus)"
   ]
  },
  {
   "cell_type": "code",
   "execution_count": 5,
   "id": "fe808c97",
   "metadata": {},
   "outputs": [],
   "source": [
    "from sklearn.feature_extraction.text import CountVectorizer\n",
    "cv = CountVectorizer(max_features = 753)\n",
    "X = cv.fit_transform(corpus).toarray()\n",
    "y = dataset.iloc[:, -1].values"
   ]
  },
  {
   "cell_type": "code",
   "execution_count": 6,
   "id": "9691d0d0",
   "metadata": {},
   "outputs": [],
   "source": [
    "from sklearn.model_selection import train_test_split\n",
    "X_train, X_test, y_train, y_test = train_test_split(X, y, test_size = 0.20, random_state = 42)"
   ]
  },
  {
   "cell_type": "code",
   "execution_count": 7,
   "id": "ea5e580d",
   "metadata": {},
   "outputs": [
    {
     "data": {
      "text/html": [
       "<style>#sk-container-id-1 {color: black;}#sk-container-id-1 pre{padding: 0;}#sk-container-id-1 div.sk-toggleable {background-color: white;}#sk-container-id-1 label.sk-toggleable__label {cursor: pointer;display: block;width: 100%;margin-bottom: 0;padding: 0.3em;box-sizing: border-box;text-align: center;}#sk-container-id-1 label.sk-toggleable__label-arrow:before {content: \"▸\";float: left;margin-right: 0.25em;color: #696969;}#sk-container-id-1 label.sk-toggleable__label-arrow:hover:before {color: black;}#sk-container-id-1 div.sk-estimator:hover label.sk-toggleable__label-arrow:before {color: black;}#sk-container-id-1 div.sk-toggleable__content {max-height: 0;max-width: 0;overflow: hidden;text-align: left;background-color: #f0f8ff;}#sk-container-id-1 div.sk-toggleable__content pre {margin: 0.2em;color: black;border-radius: 0.25em;background-color: #f0f8ff;}#sk-container-id-1 input.sk-toggleable__control:checked~div.sk-toggleable__content {max-height: 200px;max-width: 100%;overflow: auto;}#sk-container-id-1 input.sk-toggleable__control:checked~label.sk-toggleable__label-arrow:before {content: \"▾\";}#sk-container-id-1 div.sk-estimator input.sk-toggleable__control:checked~label.sk-toggleable__label {background-color: #d4ebff;}#sk-container-id-1 div.sk-label input.sk-toggleable__control:checked~label.sk-toggleable__label {background-color: #d4ebff;}#sk-container-id-1 input.sk-hidden--visually {border: 0;clip: rect(1px 1px 1px 1px);clip: rect(1px, 1px, 1px, 1px);height: 1px;margin: -1px;overflow: hidden;padding: 0;position: absolute;width: 1px;}#sk-container-id-1 div.sk-estimator {font-family: monospace;background-color: #f0f8ff;border: 1px dotted black;border-radius: 0.25em;box-sizing: border-box;margin-bottom: 0.5em;}#sk-container-id-1 div.sk-estimator:hover {background-color: #d4ebff;}#sk-container-id-1 div.sk-parallel-item::after {content: \"\";width: 100%;border-bottom: 1px solid gray;flex-grow: 1;}#sk-container-id-1 div.sk-label:hover label.sk-toggleable__label {background-color: #d4ebff;}#sk-container-id-1 div.sk-serial::before {content: \"\";position: absolute;border-left: 1px solid gray;box-sizing: border-box;top: 0;bottom: 0;left: 50%;z-index: 0;}#sk-container-id-1 div.sk-serial {display: flex;flex-direction: column;align-items: center;background-color: white;padding-right: 0.2em;padding-left: 0.2em;position: relative;}#sk-container-id-1 div.sk-item {position: relative;z-index: 1;}#sk-container-id-1 div.sk-parallel {display: flex;align-items: stretch;justify-content: center;background-color: white;position: relative;}#sk-container-id-1 div.sk-item::before, #sk-container-id-1 div.sk-parallel-item::before {content: \"\";position: absolute;border-left: 1px solid gray;box-sizing: border-box;top: 0;bottom: 0;left: 50%;z-index: -1;}#sk-container-id-1 div.sk-parallel-item {display: flex;flex-direction: column;z-index: 1;position: relative;background-color: white;}#sk-container-id-1 div.sk-parallel-item:first-child::after {align-self: flex-end;width: 50%;}#sk-container-id-1 div.sk-parallel-item:last-child::after {align-self: flex-start;width: 50%;}#sk-container-id-1 div.sk-parallel-item:only-child::after {width: 0;}#sk-container-id-1 div.sk-dashed-wrapped {border: 1px dashed gray;margin: 0 0.4em 0.5em 0.4em;box-sizing: border-box;padding-bottom: 0.4em;background-color: white;}#sk-container-id-1 div.sk-label label {font-family: monospace;font-weight: bold;display: inline-block;line-height: 1.2em;}#sk-container-id-1 div.sk-label-container {text-align: center;}#sk-container-id-1 div.sk-container {/* jupyter's `normalize.less` sets `[hidden] { display: none; }` but bootstrap.min.css set `[hidden] { display: none !important; }` so we also need the `!important` here to be able to override the default hidden behavior on the sphinx rendered scikit-learn.org. See: https://github.com/scikit-learn/scikit-learn/issues/21755 */display: inline-block !important;position: relative;}#sk-container-id-1 div.sk-text-repr-fallback {display: none;}</style><div id=\"sk-container-id-1\" class=\"sk-top-container\"><div class=\"sk-text-repr-fallback\"><pre>GaussianNB()</pre><b>In a Jupyter environment, please rerun this cell to show the HTML representation or trust the notebook. <br />On GitHub, the HTML representation is unable to render, please try loading this page with nbviewer.org.</b></div><div class=\"sk-container\" hidden><div class=\"sk-item\"><div class=\"sk-estimator sk-toggleable\"><input class=\"sk-toggleable__control sk-hidden--visually\" id=\"sk-estimator-id-1\" type=\"checkbox\" checked><label for=\"sk-estimator-id-1\" class=\"sk-toggleable__label sk-toggleable__label-arrow\">GaussianNB</label><div class=\"sk-toggleable__content\"><pre>GaussianNB()</pre></div></div></div></div></div>"
      ],
      "text/plain": [
       "GaussianNB()"
      ]
     },
     "execution_count": 7,
     "metadata": {},
     "output_type": "execute_result"
    }
   ],
   "source": [
    "from sklearn.naive_bayes import GaussianNB\n",
    "classifier = GaussianNB()\n",
    "classifier.fit(X_train, y_train)"
   ]
  },
  {
   "cell_type": "code",
   "execution_count": 8,
   "id": "a1aa0ecc",
   "metadata": {},
   "outputs": [
    {
     "name": "stdout",
     "output_type": "stream",
     "text": [
      "[['Spam' 'Spam']\n",
      " ['Spam' 'Spam']\n",
      " ['Spam' 'Spam']\n",
      " ['Spam' 'Non-Spam']\n",
      " ['Spam' 'Spam']\n",
      " ['Non-Spam' 'Non-Spam']\n",
      " ['Spam' 'Spam']\n",
      " ['Spam' 'Non-Spam']\n",
      " ['Spam' 'Non-Spam']\n",
      " ['Spam' 'Spam']\n",
      " ['Spam' 'Spam']\n",
      " ['Non-Spam' 'Non-Spam']\n",
      " ['Spam' 'Spam']\n",
      " ['Non-Spam' 'Non-Spam']\n",
      " ['Spam' 'Spam']\n",
      " ['Non-Spam' 'Non-Spam']\n",
      " ['Spam' 'Spam']\n",
      " ['Non-Spam' 'Non-Spam']\n",
      " ['Spam' 'Spam']\n",
      " ['Spam' 'Non-Spam']\n",
      " ['Spam' 'Spam']\n",
      " ['Spam' 'Non-Spam']\n",
      " ['Spam' 'Spam']\n",
      " ['Spam' 'Spam']\n",
      " ['Spam' 'Spam']]\n"
     ]
    }
   ],
   "source": [
    "y_pred = classifier.predict(X_test)\n",
    "print(np.concatenate((y_pred.reshape(len(y_pred),1), y_test.reshape(len(y_test),1)),1))"
   ]
  },
  {
   "cell_type": "code",
   "execution_count": 9,
   "id": "f8d51969",
   "metadata": {},
   "outputs": [
    {
     "name": "stdout",
     "output_type": "stream",
     "text": [
      "[[ 5  5]\n",
      " [ 0 15]]\n"
     ]
    },
    {
     "data": {
      "text/plain": [
       "0.8"
      ]
     },
     "execution_count": 9,
     "metadata": {},
     "output_type": "execute_result"
    }
   ],
   "source": [
    "from sklearn.metrics import confusion_matrix, accuracy_score\n",
    "cm = confusion_matrix(y_test, y_pred)\n",
    "print(cm)\n",
    "accuracy_score(y_test, y_pred)"
   ]
  },
  {
   "cell_type": "code",
   "execution_count": 10,
   "id": "2f1479d7",
   "metadata": {},
   "outputs": [
    {
     "name": "stdout",
     "output_type": "stream",
     "text": [
      "[[0 0 0 ... 0 0 0]\n",
      " [0 0 0 ... 0 1 0]\n",
      " [0 0 0 ... 0 0 0]\n",
      " ...\n",
      " [0 0 0 ... 0 0 0]\n",
      " [0 0 0 ... 0 0 0]\n",
      " [0 0 0 ... 0 0 0]]\n"
     ]
    }
   ],
   "source": [
    "print(X_test)"
   ]
  },
  {
   "cell_type": "code",
   "execution_count": 11,
   "id": "4bb51123",
   "metadata": {},
   "outputs": [
    {
     "name": "stdout",
     "output_type": "stream",
     "text": [
      "['Non-Spam']\n"
     ]
    }
   ],
   "source": [
    "new_mail = 'hi i am ashu'\n",
    "new_mail = re.sub('[^a-zA-Z]', ' ', new_mail)\n",
    "new_mail = new_mail.lower()\n",
    "new_mail = new_mail.split()\n",
    "ps = PorterStemmer()\n",
    "new_mail = [ps.stem(word) for word in new_mail if not word in set(stopwords.words('english'))]\n",
    "new_mail = ' '.join(new_mail)\n",
    "new_corpus = [new_mail]\n",
    "new_X_test = cv.transform(new_corpus).toarray()\n",
    "new_y_pred = classifier.predict(new_X_test)\n",
    "print(new_y_pred)"
   ]
  },
  {
   "cell_type": "code",
   "execution_count": null,
   "id": "ba7a8bf5",
   "metadata": {},
   "outputs": [],
   "source": []
  }
 ],
 "metadata": {
  "kernelspec": {
   "display_name": "Python 3 (ipykernel)",
   "language": "python",
   "name": "python3"
  },
  "language_info": {
   "codemirror_mode": {
    "name": "ipython",
    "version": 3
   },
   "file_extension": ".py",
   "mimetype": "text/x-python",
   "name": "python",
   "nbconvert_exporter": "python",
   "pygments_lexer": "ipython3",
   "version": "3.11.5"
  }
 },
 "nbformat": 4,
 "nbformat_minor": 5
}
